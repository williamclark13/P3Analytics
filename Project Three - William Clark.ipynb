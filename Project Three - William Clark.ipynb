{
 "cells": [
  {
   "cell_type": "markdown",
   "id": "47aebb7b",
   "metadata": {},
   "source": [
    "## GitHub: https://github.com/williamclark13/P3Analytics"
   ]
  },
  {
   "cell_type": "markdown",
   "id": "e7517dd7",
   "metadata": {},
   "source": [
    "# Data Prediction Algorithm: Linear Regression\n",
    "\n",
    "### How it Works?\n",
    "* Statistical method used for binary classification problems. It models the probability that a given instance belongs to a particular category. In this case, it predicts whether a passenger survived (1) or not (0) based on varius features.\n",
    "\n",
    "### What type of Tasks does it fit for?\n",
    "* Primarily used for binary classification, predicting one of two possible outcomes, in this case it predicts whether a passenger survived or not.\n",
    "\n",
    "### Advantages\n",
    "* Requires less computational resources.\n",
    "* Can handle a large number of features.\n",
    "* Simple & Interpretable\n",
    "\n",
    "### Disadvantages\n",
    "* Assumes a linear relationship between features and log-odds of response.\n",
    "* May not perform well with complex relationships.\n",
    "* Assumes features are independent.\n",
    "* Sensitive to outliers."
   ]
  },
  {
   "cell_type": "code",
   "execution_count": 34,
   "id": "3dd4ec27",
   "metadata": {},
   "outputs": [],
   "source": [
    "import joblib\n",
    "import pandas as pd\n",
    "from sklearn.metrics import accuracy_score, mean_absolute_error\n",
    "from sklearn.preprocessing import StandardScaler\n",
    "from sklearn.linear_model import LogisticRegression\n",
    "from sklearn.model_selection import train_test_split\n",
    "from flask import Flask, request, jsonify, render_template\n",
    "\n",
    "df = pd.read_csv(\"Project3Css\\Titanic-Dataset.csv\")"
   ]
  },
  {
   "cell_type": "code",
   "execution_count": 35,
   "id": "d4dedcc8",
   "metadata": {},
   "outputs": [],
   "source": [
    "df['Family_Size'] = df['SibSp'] + df['Parch']\n",
    "df['Title'] = df['Name'].str.extract(' ([A-Za-z]+)\\.')\n",
    "df['Age_Category'] = pd.cut(df['Age'], bins=[0, 12, 18, 30, 50, 100], labels=['Child', 'Teen', 'Young Adult', 'Adult', 'Senior'])\n",
    "df = df.drop(['Name', 'Ticket', 'Cabin'], axis=1)\n",
    "df['Age'].fillna(df['Age'].median(), inplace=True)\n",
    "df = pd.get_dummies(df, columns=['Sex', 'Embarked', 'Title', 'Age_Category'], drop_first=True)"
   ]
  },
  {
   "cell_type": "code",
   "execution_count": 36,
   "id": "70a7b987",
   "metadata": {},
   "outputs": [
    {
     "name": "stdout",
     "output_type": "stream",
     "text": [
      "Mean Absolute Error (MAE): 0.18994413407821228\n",
      "Model Accuracy: 81.01%\n"
     ]
    }
   ],
   "source": [
    "X = df.drop('Survived', axis=1)\n",
    "y = df['Survived']\n",
    "\n",
    "X_train, X_test, y_train, y_test = train_test_split(X, y, test_size=0.2, random_state=42)\n",
    "\n",
    "scaler = StandardScaler()\n",
    "X_train_scaled = scaler.fit_transform(X_train)\n",
    "X_test_scaled = scaler.transform(X_test)\n",
    "\n",
    "model = LogisticRegression()\n",
    "model.fit(X_train_scaled, y_train)\n",
    "\n",
    "y_pred = model.predict(X_test_scaled)\n",
    "\n",
    "mae = mean_absolute_error(y_test, y_pred)\n",
    "accuracy = accuracy_score(y_test, y_pred)\n",
    "print(f'Mean Absolute Error (MAE): {mae}')\n",
    "print(f'Model Accuracy: {accuracy * 100:.2f}%')"
   ]
  },
  {
   "cell_type": "code",
   "execution_count": 37,
   "id": "577bece2",
   "metadata": {},
   "outputs": [
    {
     "data": {
      "text/plain": [
       "['titanic_survival_model.pkl']"
      ]
     },
     "execution_count": 37,
     "metadata": {},
     "output_type": "execute_result"
    }
   ],
   "source": [
    "joblib.dump(model, 'titanic_survival_model.pkl')"
   ]
  },
  {
   "cell_type": "code",
   "execution_count": 38,
   "id": "b2b094d6",
   "metadata": {},
   "outputs": [
    {
     "name": "stdout",
     "output_type": "stream",
     "text": [
      " * Serving Flask app '__main__'\n",
      " * Debug mode: on\n"
     ]
    },
    {
     "name": "stderr",
     "output_type": "stream",
     "text": [
      "WARNING: This is a development server. Do not use it in a production deployment. Use a production WSGI server instead.\n",
      " * Running on http://127.0.0.1:5000\n",
      "Press CTRL+C to quit\n",
      " * Restarting with watchdog (windowsapi)\n"
     ]
    },
    {
     "ename": "SystemExit",
     "evalue": "1",
     "output_type": "error",
     "traceback": [
      "An exception has occurred, use %tb to see the full traceback.\n",
      "\u001b[1;31mSystemExit\u001b[0m\u001b[1;31m:\u001b[0m 1\n"
     ]
    },
    {
     "name": "stderr",
     "output_type": "stream",
     "text": [
      "C:\\Users\\jaxz2\\anaconda3\\lib\\site-packages\\IPython\\core\\interactiveshell.py:3534: UserWarning: To exit: use 'exit', 'quit', or Ctrl-D.\n",
      "  warn(\"To exit: use 'exit', 'quit', or Ctrl-D.\", stacklevel=1)\n"
     ]
    }
   ],
   "source": [
    "app = Flask(__name__)\n",
    "\n",
    "model = joblib.load('titanic_survival_model.pkl')\n",
    "\n",
    "@app.route('/')\n",
    "def home():\n",
    "    return render_template('index.html')\n",
    "\n",
    "@app.route('/predict', methods=['POST'])\n",
    "def predict():\n",
    "    scaler = joblib.load('scaler.pkl')\n",
    "\n",
    "    features = [float(request.form['Pclass']),\n",
    "                float(request.form['Age'])]\n",
    "    \n",
    "    features = [features]\n",
    "    features_scaled = scaler.transform(features)\n",
    "    \n",
    "    prediction = model.predict(features_scaled)\n",
    "    result = \"Survived\" if prediction[0] == 1 else \"Not Survived\"\n",
    "    \n",
    "    return render_template('index.html', result=result)\n",
    "\n",
    "if __name__ == '__main__':\n",
    "    app.run(debug=True)"
   ]
  }
 ],
 "metadata": {
  "kernelspec": {
   "display_name": "Python 3 (ipykernel)",
   "language": "python",
   "name": "python3"
  },
  "language_info": {
   "codemirror_mode": {
    "name": "ipython",
    "version": 3
   },
   "file_extension": ".py",
   "mimetype": "text/x-python",
   "name": "python",
   "nbconvert_exporter": "python",
   "pygments_lexer": "ipython3",
   "version": "3.9.18"
  }
 },
 "nbformat": 4,
 "nbformat_minor": 5
}
