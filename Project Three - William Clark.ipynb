{
 "cells": [
  {
   "cell_type": "markdown",
   "id": "6bc5f332",
   "metadata": {},
   "source": [
    "## GitHub: https://github.com/williamclark13/P3Analytics"
   ]
  },
  {
   "cell_type": "markdown",
   "id": "2f3b0cca",
   "metadata": {},
   "source": [
    "# Data Prediction Algorithm: Linear Regression\n",
    "\n",
    "\n",
    "### How it Works?\n",
    "* Linear Regression is a statistical method used for regression problems, focusing on predicting a continuous numeric outcome. In this case, it models the relationship between various features and predicts a numerical value indicating the likelihood of a passenger's survival.\n",
    "\n",
    "### What type of Tasks does it fit for?\n",
    "* Primarily used for regression tasks, predicting a numeric outcome. In this scenario, it predicts the likelihood of a passenger's survival based on the given features.\n",
    "\n",
    "### Advantages\n",
    "* Can handle a large number of features.\n",
    "* Simple & Interpretable\n",
    "\n",
    "### Disadvantages\n",
    "* May not perform well with complex relationships.\n",
    "* Assumes features are independent.\n",
    "* Sensitive to outliers."
   ]
  },
  {
   "cell_type": "markdown",
   "id": "a17d2936",
   "metadata": {},
   "source": [
    "### Import Libraries"
   ]
  },
  {
   "cell_type": "code",
   "execution_count": 43,
   "id": "3dd4ec27",
   "metadata": {},
   "outputs": [],
   "source": [
    "import joblib\n",
    "import pandas as pd\n",
    "from sklearn.metrics import mean_absolute_error, accuracy_score\n",
    "from sklearn.linear_model import LinearRegression\n",
    "from sklearn.model_selection import train_test_split\n",
    "from sklearn.preprocessing import StandardScaler\n",
    "from flask import Flask, request, jsonify, render_template\n",
    "\n",
    "df = pd.read_csv(\"Project3Css/Titanic-Dataset.csv\")"
   ]
  },
  {
   "cell_type": "markdown",
   "id": "47623e9c",
   "metadata": {},
   "source": [
    "### Data Wrangling\n",
    "* Family Size = Sibling/Spouse and Parent/Child (if any of either/all).\n",
    "* Determines whether individual has (mr., mrs., etc).\n",
    "* Ages are separated into children, teenagers, young adult, adult, and senior.\n",
    "* Columns are dropped because unnecessary towards determining survivability."
   ]
  },
  {
   "cell_type": "code",
   "execution_count": 44,
   "id": "9b865544",
   "metadata": {},
   "outputs": [],
   "source": [
    "df['Family_Size'] = df['SibSp'] + df['Parch']\n",
    "df['Title'] = df['Name'].str.extract(' ([A-Za-z]+)\\.')\n",
    "df['Age_Category'] = pd.cut(df['Age'], bins=[0, 12, 18, 30, 50, 100], labels=['Child', 'Teen', 'Young Adult', 'Adult', 'Senior'])\n",
    "df = df.drop(['Name', 'Ticket', 'Cabin'], axis=1)\n",
    "df['Age'].fillna(df['Age'].median(), inplace=True)\n",
    "df = pd.get_dummies(df, columns=['Sex', 'Embarked', 'Title', 'Age_Category'], drop_first=True)"
   ]
  },
  {
   "cell_type": "markdown",
   "id": "a1edd770",
   "metadata": {},
   "source": [
    "# Training Model/Evaluation\n",
    "* Model is split into training and testing sets.\n",
    "* Then standardized using StandardScaler.\n",
    "* Then model is fitted to training data.\n",
    "* And predictions are made on the test set and [measuring the error/accuracy]"
   ]
  },
  {
   "cell_type": "code",
   "execution_count": 45,
   "id": "79e66a04",
   "metadata": {},
   "outputs": [
    {
     "name": "stdout",
     "output_type": "stream",
     "text": [
      "Mean Absolute Error (MAE): 0.2863490681190359\n",
      "Model Accuracy: 81.01%\n"
     ]
    }
   ],
   "source": [
    "X = df.drop('Survived', axis=1)\n",
    "y = df['Survived']\n",
    "\n",
    "X_train, X_test, y_train, y_test = train_test_split(X, y, test_size=0.2, random_state=42)\n",
    "\n",
    "scaler = StandardScaler()\n",
    "X_train_scaled = scaler.fit_transform(X_train)\n",
    "X_test_scaled = scaler.transform(X_test)\n",
    "\n",
    "model = LinearRegression()\n",
    "model.fit(X_train_scaled, y_train)\n",
    "\n",
    "y_pred = model.predict(X_test_scaled)\n",
    "\n",
    "mae = mean_absolute_error(y_test, y_pred)\n",
    "accuracy = accuracy_score(y_test, y_pred.round())\n",
    "print(f'Mean Absolute Error (MAE): {mae}')\n",
    "print(f'Model Accuracy: {accuracy * 100:.2f}%')"
   ]
  },
  {
   "cell_type": "markdown",
   "id": "27121851",
   "metadata": {},
   "source": [
    "### Flask Webpage\n",
    "* The above model predicts likelihood of survival and displays result on the following webpage."
   ]
  },
  {
   "cell_type": "code",
   "execution_count": 46,
   "id": "7a453964",
   "metadata": {},
   "outputs": [
    {
     "data": {
      "text/plain": [
       "['titanic_survival_model.pkl']"
      ]
     },
     "execution_count": 46,
     "metadata": {},
     "output_type": "execute_result"
    }
   ],
   "source": [
    "joblib.dump(model, 'titanic_survival_model.pkl')"
   ]
  },
  {
   "cell_type": "code",
   "execution_count": null,
   "id": "87d5d0b5",
   "metadata": {},
   "outputs": [],
   "source": [
    "app = Flask(__name__)\n",
    "\n",
    "model = joblib.load('titanic_survival_model.pkl')\n",
    "\n",
    "@app.route('/')\n",
    "def home():\n",
    "    return render_template('index.html')\n",
    "\n",
    "@app.route('/predict', methods=['POST'])\n",
    "def predict():\n",
    "    features = [float(request.form['Pclass']),\n",
    "                float(request.form['Age']),\n",
    "                float(request.form['SibSp']),\n",
    "                float(request.form['Parch']),\n",
    "                float(request.form['Fare']),\n",
    "                float(request.form['Family_Size']),\n",
    "                float(request.form['Sex_male']),\n",
    "                float(request.form['Embarked_Q']),\n",
    "                float(request.form['Embarked_S']),\n",
    "                float(request.form['Title_Miss']),\n",
    "                float(request.form['Title_Mr']),\n",
    "                float(request.form['Title_Mrs']),\n",
    "                float(request.form['Title_Other']),\n",
    "                float(request.form['Age_Category_Teen']),\n",
    "                float(request.form['Age_Category_Young Adult']),\n",
    "                float(request.form['Age_Category_Adult']),\n",
    "                float(request.form['Age_Category_Senior'])]\n",
    "\n",
    "    features = [features]\n",
    "    features_scaled = scaler.transform(features)\n",
    "\n",
    "    prediction = model.predict(features_scaled)\n",
    "    result = \"Survived\" if prediction[0] > 0.5 else \"Not Survived\"\n",
    "\n",
    "    return render_template('index.html', result=result)\n",
    "\n",
    "if __name__ == '__main__':\n",
    "    app.run(debug=True)"
   ]
  },
  {
   "cell_type": "markdown",
   "id": "7d7fdf7b",
   "metadata": {},
   "source": [
    "### Summary\n",
    "* Predicts survivability on the titanic, through a convenient Flask Webpage."
   ]
  }
 ],
 "metadata": {
  "kernelspec": {
   "display_name": "Python 3 (ipykernel)",
   "language": "python",
   "name": "python3"
  },
  "language_info": {
   "codemirror_mode": {
    "name": "ipython",
    "version": 3
   },
   "file_extension": ".py",
   "mimetype": "text/x-python",
   "name": "python",
   "nbconvert_exporter": "python",
   "pygments_lexer": "ipython3",
   "version": "3.9.18"
  }
 },
 "nbformat": 4,
 "nbformat_minor": 5
}
